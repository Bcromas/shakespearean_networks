{
 "cells": [
  {
   "cell_type": "code",
   "execution_count": 1,
   "metadata": {},
   "outputs": [],
   "source": [
    "import pandas as pd\n",
    "import json"
   ]
  },
  {
   "cell_type": "code",
   "execution_count": 2,
   "metadata": {},
   "outputs": [],
   "source": [
    "df = pd.DataFrame(columns=['Play','Act','Scene','Character','Line'])"
   ]
  },
  {
   "cell_type": "code",
   "execution_count": 3,
   "metadata": {},
   "outputs": [],
   "source": [
    "data = None\n",
    "with open('data/shakespeare_acts_scenes.json') as f:\n",
    "    data = json.load(f)"
   ]
  },
  {
   "cell_type": "code",
   "execution_count": 4,
   "metadata": {},
   "outputs": [],
   "source": [
    "for play_name,play_content in data.items():\n",
    "    for acts,scenes in play_content.items():\n",
    "        for scene,lines in scenes.items():\n",
    "            for line in lines:\n",
    "                if len(line)>1:\n",
    "                    df = df.append({'Play':play_name.title(), 'Act':acts, 'Scene':scene, 'Character':line[0].title(), 'Line':line[1]}, ignore_index=True)"
   ]
  },
  {
   "cell_type": "code",
   "execution_count": 5,
   "metadata": {},
   "outputs": [],
   "source": [
    "df['Line_chars'] = df.apply(lambda x: len(x['Line']), axis=1)"
   ]
  },
  {
   "cell_type": "code",
   "execution_count": 6,
   "metadata": {},
   "outputs": [],
   "source": [
    "df.drop(df[df['Line_chars']==1].index, inplace=True)"
   ]
  },
  {
   "cell_type": "code",
   "execution_count": 9,
   "metadata": {},
   "outputs": [],
   "source": [
    "import spacy\n",
    "import en_core_web_lg\n",
    "\n",
    "from spacy.tokenizer import Tokenizer"
   ]
  },
  {
   "cell_type": "code",
   "execution_count": 10,
   "metadata": {},
   "outputs": [],
   "source": [
    "nlp = en_core_web_lg.load()\n",
    "tokenizer = Tokenizer(nlp.vocab)"
   ]
  },
  {
   "cell_type": "code",
   "execution_count": 11,
   "metadata": {},
   "outputs": [
    {
     "name": "stderr",
     "output_type": "stream",
     "text": [
      "/home/bryan/Documents/Code/python-environments/SHAKESPEAREAN_NETWORKS/lib/python3.8/site-packages/numpy/core/_asarray.py:83: VisibleDeprecationWarning: Creating an ndarray from ragged nested sequences (which is a list-or-tuple of lists-or-tuples-or ndarrays with different lengths or shapes) is deprecated. If you meant to do this, you must specify 'dtype=object' when creating the ndarray\n",
      "  return array(a, dtype, copy=False, order=order)\n"
     ]
    }
   ],
   "source": [
    "df['Line_spacy'] = df.apply(lambda x: (len(tokenizer(x['Line'])),tokenizer(x['Line'])), axis=1)\n",
    "df[['Line_spacy_len','Line_spacy']] = df['Line_spacy'].to_list()"
   ]
  },
  {
   "cell_type": "code",
   "execution_count": 12,
   "metadata": {},
   "outputs": [
    {
     "data": {
      "text/html": [
       "<div>\n",
       "<style scoped>\n",
       "    .dataframe tbody tr th:only-of-type {\n",
       "        vertical-align: middle;\n",
       "    }\n",
       "\n",
       "    .dataframe tbody tr th {\n",
       "        vertical-align: top;\n",
       "    }\n",
       "\n",
       "    .dataframe thead th {\n",
       "        text-align: right;\n",
       "    }\n",
       "</style>\n",
       "<table border=\"1\" class=\"dataframe\">\n",
       "  <thead>\n",
       "    <tr style=\"text-align: right;\">\n",
       "      <th></th>\n",
       "      <th>Play</th>\n",
       "      <th>Act</th>\n",
       "      <th>Scene</th>\n",
       "      <th>Character</th>\n",
       "      <th>Line</th>\n",
       "      <th>Line_chars</th>\n",
       "      <th>Line_spacy</th>\n",
       "      <th>Line_spacy_len</th>\n",
       "    </tr>\n",
       "  </thead>\n",
       "  <tbody>\n",
       "    <tr>\n",
       "      <th>0</th>\n",
       "      <td>Romeo</td>\n",
       "      <td>ACT I</td>\n",
       "      <td>SCENE I</td>\n",
       "      <td>Sampson</td>\n",
       "      <td>Gregory, on my word, we’ll not carry coals.</td>\n",
       "      <td>43</td>\n",
       "      <td>(Gregory,, on, my, word,, we’ll, not, carry, c...</td>\n",
       "      <td>8</td>\n",
       "    </tr>\n",
       "    <tr>\n",
       "      <th>1</th>\n",
       "      <td>Romeo</td>\n",
       "      <td>ACT I</td>\n",
       "      <td>SCENE I</td>\n",
       "      <td>Gregory</td>\n",
       "      <td>No, for then we should be colliers.</td>\n",
       "      <td>35</td>\n",
       "      <td>(No,, for, then, we, should, be, colliers.)</td>\n",
       "      <td>7</td>\n",
       "    </tr>\n",
       "    <tr>\n",
       "      <th>2</th>\n",
       "      <td>Romeo</td>\n",
       "      <td>ACT I</td>\n",
       "      <td>SCENE I</td>\n",
       "      <td>Sampson</td>\n",
       "      <td>I mean, if we be in choler, we’ll draw.</td>\n",
       "      <td>39</td>\n",
       "      <td>(I, mean,, if, we, be, in, choler,, we’ll, draw.)</td>\n",
       "      <td>9</td>\n",
       "    </tr>\n",
       "    <tr>\n",
       "      <th>3</th>\n",
       "      <td>Romeo</td>\n",
       "      <td>ACT I</td>\n",
       "      <td>SCENE I</td>\n",
       "      <td>Gregory</td>\n",
       "      <td>Ay, while you live, draw your neck out o’ the ...</td>\n",
       "      <td>53</td>\n",
       "      <td>(Ay,, while, you, live,, draw, your, neck, out...</td>\n",
       "      <td>11</td>\n",
       "    </tr>\n",
       "    <tr>\n",
       "      <th>4</th>\n",
       "      <td>Romeo</td>\n",
       "      <td>ACT I</td>\n",
       "      <td>SCENE I</td>\n",
       "      <td>Sampson</td>\n",
       "      <td>I strike quickly, being moved.</td>\n",
       "      <td>30</td>\n",
       "      <td>(I, strike, quickly,, being, moved.)</td>\n",
       "      <td>5</td>\n",
       "    </tr>\n",
       "  </tbody>\n",
       "</table>\n",
       "</div>"
      ],
      "text/plain": [
       "    Play    Act    Scene Character  \\\n",
       "0  Romeo  ACT I  SCENE I   Sampson   \n",
       "1  Romeo  ACT I  SCENE I   Gregory   \n",
       "2  Romeo  ACT I  SCENE I   Sampson   \n",
       "3  Romeo  ACT I  SCENE I   Gregory   \n",
       "4  Romeo  ACT I  SCENE I   Sampson   \n",
       "\n",
       "                                                Line  Line_chars  \\\n",
       "0        Gregory, on my word, we’ll not carry coals.          43   \n",
       "1                No, for then we should be colliers.          35   \n",
       "2            I mean, if we be in choler, we’ll draw.          39   \n",
       "3  Ay, while you live, draw your neck out o’ the ...          53   \n",
       "4                     I strike quickly, being moved.          30   \n",
       "\n",
       "                                          Line_spacy  Line_spacy_len  \n",
       "0  (Gregory,, on, my, word,, we’ll, not, carry, c...               8  \n",
       "1        (No,, for, then, we, should, be, colliers.)               7  \n",
       "2  (I, mean,, if, we, be, in, choler,, we’ll, draw.)               9  \n",
       "3  (Ay,, while, you, live,, draw, your, neck, out...              11  \n",
       "4               (I, strike, quickly,, being, moved.)               5  "
      ]
     },
     "execution_count": 12,
     "metadata": {},
     "output_type": "execute_result"
    }
   ],
   "source": [
    "df.head()"
   ]
  }
 ],
 "metadata": {
  "kernelspec": {
   "display_name": "Python 3",
   "language": "python",
   "name": "python3"
  },
  "language_info": {
   "codemirror_mode": {
    "name": "ipython",
    "version": 3
   },
   "file_extension": ".py",
   "mimetype": "text/x-python",
   "name": "python",
   "nbconvert_exporter": "python",
   "pygments_lexer": "ipython3",
   "version": "3.8.5"
  }
 },
 "nbformat": 4,
 "nbformat_minor": 4
}
