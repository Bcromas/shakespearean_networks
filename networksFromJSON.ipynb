{
 "cells": [
  {
   "cell_type": "code",
   "execution_count": 1,
   "metadata": {},
   "outputs": [],
   "source": [
    "import pandas as pd\n",
    "import json"
   ]
  },
  {
   "cell_type": "code",
   "execution_count": 2,
   "metadata": {},
   "outputs": [],
   "source": [
    "df = pd.DataFrame()"
   ]
  },
  {
   "cell_type": "code",
   "execution_count": 3,
   "metadata": {},
   "outputs": [],
   "source": [
    "data = None\n",
    "with open('data/shakespeare_acts_scenes.json') as f:\n",
    "    data = json.load(f)"
   ]
  },
  {
   "cell_type": "code",
   "execution_count": 4,
   "metadata": {},
   "outputs": [],
   "source": [
    "for play_name,play_content in data.items():\n",
    "    for acts,scenes in play_content.items():\n",
    "        for scene,lines in scenes.items():\n",
    "            for line in lines:\n",
    "                if len(line)>1:\n",
    "                    df = df.append({'Play':play_name.title(), 'Act':acts.title(), 'Scene':scene.title(), 'Character':line[0].title(), 'Line':line[1]}, ignore_index=True)\n",
    "                else:\n",
    "                    df = df.append({'Play':play_name.title(), 'Act':acts.title(), 'Scene':scene.title(), 'Character':\"\", 'Line':line}, ignore_index=True)"
   ]
  },
  {
   "cell_type": "code",
   "execution_count": 5,
   "metadata": {},
   "outputs": [
    {
     "data": {
      "text/html": [
       "<div>\n",
       "<style scoped>\n",
       "    .dataframe tbody tr th:only-of-type {\n",
       "        vertical-align: middle;\n",
       "    }\n",
       "\n",
       "    .dataframe tbody tr th {\n",
       "        vertical-align: top;\n",
       "    }\n",
       "\n",
       "    .dataframe thead th {\n",
       "        text-align: right;\n",
       "    }\n",
       "</style>\n",
       "<table border=\"1\" class=\"dataframe\">\n",
       "  <thead>\n",
       "    <tr style=\"text-align: right;\">\n",
       "      <th></th>\n",
       "      <th>Act</th>\n",
       "      <th>Character</th>\n",
       "      <th>Line</th>\n",
       "      <th>Play</th>\n",
       "      <th>Scene</th>\n",
       "    </tr>\n",
       "  </thead>\n",
       "  <tbody>\n",
       "    <tr>\n",
       "      <th>0</th>\n",
       "      <td>Act I</td>\n",
       "      <td>Sampson</td>\n",
       "      <td>Gregory, on my word, we’ll not carry coals.</td>\n",
       "      <td>Romeo</td>\n",
       "      <td>Scene I</td>\n",
       "    </tr>\n",
       "    <tr>\n",
       "      <th>1</th>\n",
       "      <td>Act I</td>\n",
       "      <td>Gregory</td>\n",
       "      <td>No, for then we should be colliers.</td>\n",
       "      <td>Romeo</td>\n",
       "      <td>Scene I</td>\n",
       "    </tr>\n",
       "    <tr>\n",
       "      <th>2</th>\n",
       "      <td>Act I</td>\n",
       "      <td>Sampson</td>\n",
       "      <td>I mean, if we be in choler, we’ll draw.</td>\n",
       "      <td>Romeo</td>\n",
       "      <td>Scene I</td>\n",
       "    </tr>\n",
       "    <tr>\n",
       "      <th>3</th>\n",
       "      <td>Act I</td>\n",
       "      <td>Gregory</td>\n",
       "      <td>Ay, while you live, draw your neck out o’ the ...</td>\n",
       "      <td>Romeo</td>\n",
       "      <td>Scene I</td>\n",
       "    </tr>\n",
       "    <tr>\n",
       "      <th>4</th>\n",
       "      <td>Act I</td>\n",
       "      <td>Sampson</td>\n",
       "      <td>I strike quickly, being moved.</td>\n",
       "      <td>Romeo</td>\n",
       "      <td>Scene I</td>\n",
       "    </tr>\n",
       "  </tbody>\n",
       "</table>\n",
       "</div>"
      ],
      "text/plain": [
       "     Act Character                                               Line   Play  \\\n",
       "0  Act I   Sampson        Gregory, on my word, we’ll not carry coals.  Romeo   \n",
       "1  Act I   Gregory                No, for then we should be colliers.  Romeo   \n",
       "2  Act I   Sampson            I mean, if we be in choler, we’ll draw.  Romeo   \n",
       "3  Act I   Gregory  Ay, while you live, draw your neck out o’ the ...  Romeo   \n",
       "4  Act I   Sampson                     I strike quickly, being moved.  Romeo   \n",
       "\n",
       "     Scene  \n",
       "0  Scene I  \n",
       "1  Scene I  \n",
       "2  Scene I  \n",
       "3  Scene I  \n",
       "4  Scene I  "
      ]
     },
     "execution_count": 5,
     "metadata": {},
     "output_type": "execute_result"
    }
   ],
   "source": [
    "df.head()"
   ]
  },
  {
   "cell_type": "code",
   "execution_count": 7,
   "metadata": {},
   "outputs": [
    {
     "data": {
      "text/plain": [
       "(5106, 5)"
      ]
     },
     "execution_count": 7,
     "metadata": {},
     "output_type": "execute_result"
    }
   ],
   "source": [
    "df.shape"
   ]
  },
  {
   "cell_type": "code",
   "execution_count": 8,
   "metadata": {},
   "outputs": [
    {
     "data": {
      "text/html": [
       "<div>\n",
       "<style scoped>\n",
       "    .dataframe tbody tr th:only-of-type {\n",
       "        vertical-align: middle;\n",
       "    }\n",
       "\n",
       "    .dataframe tbody tr th {\n",
       "        vertical-align: top;\n",
       "    }\n",
       "\n",
       "    .dataframe thead th {\n",
       "        text-align: right;\n",
       "    }\n",
       "</style>\n",
       "<table border=\"1\" class=\"dataframe\">\n",
       "  <thead>\n",
       "    <tr style=\"text-align: right;\">\n",
       "      <th></th>\n",
       "      <th>Act</th>\n",
       "      <th>Character</th>\n",
       "      <th>Line</th>\n",
       "      <th>Play</th>\n",
       "      <th>Scene</th>\n",
       "    </tr>\n",
       "  </thead>\n",
       "  <tbody>\n",
       "    <tr>\n",
       "      <th>count</th>\n",
       "      <td>5106</td>\n",
       "      <td>5106</td>\n",
       "      <td>5106</td>\n",
       "      <td>5106</td>\n",
       "      <td>5106</td>\n",
       "    </tr>\n",
       "    <tr>\n",
       "      <th>unique</th>\n",
       "      <td>5</td>\n",
       "      <td>199</td>\n",
       "      <td>5002</td>\n",
       "      <td>6</td>\n",
       "      <td>8</td>\n",
       "    </tr>\n",
       "    <tr>\n",
       "      <th>top</th>\n",
       "      <td>Act Iii</td>\n",
       "      <td>Hamlet</td>\n",
       "      <td>and</td>\n",
       "      <td>Othello</td>\n",
       "      <td>Scene I</td>\n",
       "    </tr>\n",
       "    <tr>\n",
       "      <th>freq</th>\n",
       "      <td>1247</td>\n",
       "      <td>358</td>\n",
       "      <td>12</td>\n",
       "      <td>1180</td>\n",
       "      <td>1551</td>\n",
       "    </tr>\n",
       "  </tbody>\n",
       "</table>\n",
       "</div>"
      ],
      "text/plain": [
       "            Act Character   Line     Play    Scene\n",
       "count      5106      5106   5106     5106     5106\n",
       "unique        5       199   5002        6        8\n",
       "top     Act Iii    Hamlet   and   Othello  Scene I\n",
       "freq       1247       358     12     1180     1551"
      ]
     },
     "execution_count": 8,
     "metadata": {},
     "output_type": "execute_result"
    }
   ],
   "source": [
    "df.describe()"
   ]
  },
  {
   "cell_type": "code",
   "execution_count": null,
   "metadata": {},
   "outputs": [],
   "source": []
  }
 ],
 "metadata": {
  "kernelspec": {
   "display_name": "Python 3",
   "language": "python",
   "name": "python3"
  },
  "language_info": {
   "codemirror_mode": {
    "name": "ipython",
    "version": 3
   },
   "file_extension": ".py",
   "mimetype": "text/x-python",
   "name": "python",
   "nbconvert_exporter": "python",
   "pygments_lexer": "ipython3",
   "version": "3.8.5"
  }
 },
 "nbformat": 4,
 "nbformat_minor": 4
}
