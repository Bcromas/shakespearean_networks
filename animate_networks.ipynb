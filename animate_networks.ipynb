{
 "cells": [
  {
   "cell_type": "code",
   "execution_count": 6,
   "metadata": {},
   "outputs": [],
   "source": [
    "import json\n",
    "import networkx as nx"
   ]
  },
  {
   "cell_type": "code",
   "execution_count": 7,
   "metadata": {},
   "outputs": [],
   "source": [
    "SHAKESPEARE = None\n",
    "with open('play_details.json') as f:\n",
    "    SHAKESPEARE = json.load(f)"
   ]
  },
  {
   "cell_type": "code",
   "execution_count": 10,
   "metadata": {},
   "outputs": [],
   "source": [
    "all_plays = []\n",
    "for i in SHAKESPEARE.keys():\n",
    "    all_plays.append(nx.read_gpickle(f'output/{i}.gpickle'))"
   ]
  },
  {
   "cell_type": "code",
   "execution_count": 14,
   "metadata": {},
   "outputs": [
    {
     "name": "stdout",
     "output_type": "stream",
     "text": [
      "romeo 31\n",
      "othello 25\n",
      "hamlet 36\n",
      "caesar 47\n",
      "macbeth 39\n",
      "midsummer 34\n",
      "tempest 20\n",
      "lear 26\n",
      "ado 24\n",
      "merchant 23\n",
      "shrew 26\n",
      "comedy 14\n"
     ]
    }
   ],
   "source": [
    "for i in all_plays:\n",
    "    print(i, len(i))"
   ]
  },
  {
   "cell_type": "markdown",
   "metadata": {},
   "source": [
    "# Animate networks"
   ]
  },
  {
   "cell_type": "code",
   "execution_count": 19,
   "metadata": {},
   "outputs": [],
   "source": [
    "# from networkx.algorithms.community import k_clique_communities\n",
    "# for i in all_plays:\n",
    "#     print(i.graph['name'],'\\n',list(k_clique_communities(i, 3, nx.find_cliques(i))), '\\n')"
   ]
  },
  {
   "cell_type": "code",
   "execution_count": 3,
   "metadata": {},
   "outputs": [],
   "source": [
    "# https://stackoverflow.com/questions/31815454/animate-graph-diffusion-with-networkx"
   ]
  }
 ],
 "metadata": {
  "kernelspec": {
   "display_name": "Python 3",
   "language": "python",
   "name": "python3"
  },
  "language_info": {
   "codemirror_mode": {
    "name": "ipython",
    "version": 3
   },
   "file_extension": ".py",
   "mimetype": "text/x-python",
   "name": "python",
   "nbconvert_exporter": "python",
   "pygments_lexer": "ipython3",
   "version": "3.8.5"
  }
 },
 "nbformat": 4,
 "nbformat_minor": 4
}
