{
 "cells": [
  {
   "cell_type": "code",
   "execution_count": 26,
   "metadata": {},
   "outputs": [],
   "source": [
    "import json\n",
    "import networkx as nx"
   ]
  },
  {
   "cell_type": "code",
   "execution_count": 27,
   "metadata": {},
   "outputs": [],
   "source": [
    "SHAKESPEARE = None\n",
    "with open('play_details.json') as f:\n",
    "    SHAKESPEARE = json.load(f)\n",
    "    \n",
    "assert SHAKESPEARE, \"Failed to load JSON. Check path to file exists.\""
   ]
  },
  {
   "cell_type": "code",
   "execution_count": 28,
   "metadata": {},
   "outputs": [],
   "source": [
    "all_plays = []\n",
    "for entry in SHAKESPEARE.keys():\n",
    "    all_plays.append(nx.read_gpickle(f'output/{entry}.gpickle'))\n",
    "\n",
    "assert len(all_plays) == 12, \"Failed to load pickles. Check paths to files exist.\""
   ]
  },
  {
   "cell_type": "code",
   "execution_count": 29,
   "metadata": {},
   "outputs": [],
   "source": [
    "from collections import Counter"
   ]
  },
  {
   "cell_type": "code",
   "execution_count": 42,
   "metadata": {},
   "outputs": [
    {
     "name": "stdout",
     "output_type": "stream",
     "text": [
      "Romeo\n",
      "Degree ['Capulet', 'Romeo', 'Benvolio', 'Prince', 'Friar Lawrence']\n",
      "Betweenness ['Benvolio', 'Romeo', 'Capulet', 'Nurse', 'First Watch']\n",
      "Closeness ['Capulet', 'Benvolio', 'Romeo', 'Nurse', 'Friar Lawrence']\n",
      "Cluster_Coeff ['Gregory', 'Abram', 'Lady Montague', 'Second Servant', 'Friar John']\n",
      "Eigen_Centrality ['Capulet', 'Romeo', 'Benvolio', 'Friar Lawrence', 'Juliet']\n",
      "\n",
      "\n",
      "Othello\n",
      "Degree ['Cassio', 'Othello', 'Iago', 'Duke', 'Desdemona']\n",
      "Betweenness ['Othello', 'Cassio', 'Duke', 'Montano', 'Desdemona']\n",
      "Closeness ['Othello', 'Cassio', 'Iago', 'Desdemona', 'Duke']\n",
      "Cluster_Coeff ['Sailor', 'Second Gentleman', 'Third Gentleman', 'Herald', 'Gentlemen']\n",
      "Eigen_Centrality ['Cassio', 'Othello', 'Iago', 'Desdemona', 'Emilia']\n",
      "\n",
      "\n",
      "Hamlet\n",
      "Degree ['Hamlet', 'King', 'Horatio', 'Laertes', 'Queen']\n",
      "Betweenness ['Hamlet', 'King', 'Horatio', 'Laertes', 'Polonius']\n",
      "Closeness ['Hamlet', 'King', 'Horatio', 'Queen', 'Marcellus']\n",
      "Cluster_Coeff ['Barnardo', 'Francisco', 'Guildenstern', 'First Player', 'Prologue']\n",
      "Eigen_Centrality ['Hamlet', 'King', 'Queen', 'Laertes', 'Polonius']\n",
      "\n",
      "\n",
      "Caesar\n",
      "Degree ['Brutus', 'Cassius', 'Antony', 'Caesar', 'Cinna']\n",
      "Betweenness ['Brutus', 'Caesar', 'Cassius', 'Antony', 'Flavius']\n",
      "Closeness ['Brutus', 'Caesar', 'Cassius', 'Antony', 'Cinna']\n",
      "Cluster_Coeff ['Carpenter', 'Cobbler', 'Calphurnia', 'Soothsayer', 'Cicero']\n",
      "Eigen_Centrality ['Brutus', 'Antony', 'Cassius', 'Caesar', 'Cinna']\n",
      "\n",
      "\n",
      "Macbeth\n",
      "Degree ['Macbeth', 'Malcolm', 'Banquo', 'Ross', 'First Witch']\n",
      "Betweenness ['Macbeth', 'Malcolm', 'Banquo', 'First Witch', 'Lennox']\n",
      "Closeness ['Macbeth', 'Malcolm', 'Banquo', 'Ross', 'Macduff']\n",
      "Cluster_Coeff ['Soldier', 'Porter', 'Donalbain', 'Old Man', 'Servant']\n",
      "Eigen_Centrality ['Macbeth', 'Malcolm', 'Banquo', 'Ross', 'Macduff']\n",
      "\n",
      "\n",
      "Midsummer\n",
      "Degree ['Theseus', 'Demetrius', 'Bottom', 'Puck', 'Lysander']\n",
      "Betweenness ['Bottom', 'Theseus', 'Demetrius', 'Titania', 'Quince']\n",
      "Closeness ['Bottom', 'Theseus', 'Demetrius', 'Puck', 'Titania']\n",
      "Cluster_Coeff ['Egeus', 'Snout', 'Snug', 'Fairy', 'Wall']\n",
      "Eigen_Centrality ['Demetrius', 'Theseus', 'Puck', 'Lysander', 'Bottom']\n",
      "\n",
      "\n",
      "Tempest\n",
      "Degree ['Prospero', 'Alonso', 'Sebastian', 'Gonzalo', 'Ariel']\n",
      "Betweenness ['Prospero', 'Boatswain', 'Ferdinand', 'Sebastian', 'Alonso']\n",
      "Closeness ['Alonso', 'Sebastian', 'Prospero', 'Ariel', 'Gonzalo']\n",
      "Cluster_Coeff ['Adrian', 'Francisco', 'Caliban', 'Miranda', 'Antonio']\n",
      "Eigen_Centrality ['Prospero', 'Sebastian', 'Alonso', 'Ariel', 'Gonzalo']\n",
      "\n",
      "\n",
      "Lear\n",
      "Degree ['Lear', 'Edmund', 'Edgar', 'Goneril', 'Kent']\n",
      "Betweenness ['Lear', 'Edgar', 'Edmund', 'Cornwall', 'Albany']\n",
      "Closeness ['Lear', 'Edmund', 'Edgar', 'Goneril', 'Kent']\n",
      "Cluster_Coeff ['Burgundy', 'Fool', 'Gentleman', 'First Servant', 'Old Man']\n",
      "Eigen_Centrality ['Lear', 'Edmund', 'Edgar', 'Goneril', 'Kent']\n",
      "\n",
      "\n",
      "Ado\n",
      "Degree ['Benedick', 'Leonato', 'Dogberry', 'Don Pedro', 'Claudio']\n",
      "Betweenness ['Dogberry', 'Benedick', 'Leonato', 'Claudio', 'Borachio']\n",
      "Closeness ['Leonato', 'Benedick', 'Dogberry', 'Don Pedro', 'Claudio']\n",
      "Cluster_Coeff ['Messenger', 'Friar', 'Sexton', 'Margaret', 'Second Watch']\n",
      "Eigen_Centrality ['Leonato', 'Benedick', 'Don Pedro', 'Claudio', 'Beatrice']\n",
      "\n",
      "\n",
      "Merchant\n",
      "Degree ['Portia', 'Bassanio', 'Shylock', 'Lorenzo', 'Gratiano']\n",
      "Betweenness ['Portia', 'Shylock', 'Bassanio', 'Lorenzo', 'Gratiano']\n",
      "Closeness ['Portia', 'Bassanio', 'Shylock', 'Lorenzo', 'Gratiano']\n",
      "Cluster_Coeff ['Solanio', 'Gobbo', 'Leonardo', 'Servant', 'All']\n",
      "Eigen_Centrality ['Portia', 'Gratiano', 'Shylock', 'Bassanio', 'Lorenzo']\n",
      "\n",
      "\n",
      "Shrew\n",
      "Degree ['Petruchio', 'Baptista', 'Tranio', 'Gremio', 'Hortensio']\n",
      "Betweenness ['Petruchio', 'Nathaniel', 'Bianca', 'Sly', 'Grumio']\n",
      "Closeness ['Petruchio', 'Grumio', 'Tranio', 'Baptista', 'Gremio']\n",
      "Cluster_Coeff ['Curtis', 'Peter', 'Pedant', 'Tailor', 'Widow']\n",
      "Eigen_Centrality ['Petruchio', 'Baptista', 'Tranio', 'Gremio', 'Hortensio']\n",
      "\n",
      "\n",
      "Comedy\n",
      "Degree ['Adriana', 'Duke', 'Luciana', 'Merchant', 'Angelo']\n",
      "Betweenness ['Adriana', 'Duke', 'Luciana', 'Angelo', 'Egeon']\n",
      "Closeness ['Adriana', 'Duke', 'Luciana', 'Merchant', 'Angelo']\n",
      "Cluster_Coeff ['Jailer', 'Pinch', 'Messenger', 'Courtesan', 'Abbess']\n",
      "Eigen_Centrality ['Adriana', 'Duke', 'Luciana', 'Courtesan', 'Officer']\n",
      "\n",
      "\n"
     ]
    }
   ],
   "source": [
    "these_measures = {\n",
    "        'degree': nx.degree_centrality,               #fraction of nodes a given node is connected to (# of unique exchanges the character has)\n",
    "        'betweenness': nx.betweenness_centrality,     #sum of the fraction of shortest paths passing through a given node (how much of a \"broker\" the character is)\n",
    "        'closeness': nx.closeness_centrality,         #reciprocal of the average shortest path distance from a given node to all other nodes (nearness to all other characters)\n",
    "        'cluster_coeff': nx.clustering,               #fraction of actual triangles through a given node over all possible triangles (how much of a \"broker\" the character is between any two characters)\n",
    "        'eigen_centrality': nx.eigenvector_centrality #centrality of a given node based on the centrality of its neighbors (importance of a character based on importance of the characters it speaks with)\n",
    "    }\n",
    "for this_play in all_plays:\n",
    "    print(this_play.name.title())\n",
    "    counter_top_5 = Counter()\n",
    "    for this_name, this_funct in these_measures.items():\n",
    "        these_vals = this_funct(this_play)\n",
    "        nx.set_node_attributes(this_play, these_vals, name=this_name)\n",
    "        top_5 = [k for k,v in sorted(these_vals.items(), key=lambda item: item[1], reverse=True)][:5]\n",
    "        print(this_name.title(), top_5)\n",
    "        counter_top_5.update(top_5)\n",
    "#     print(\"\\t\",this_play.name.title(), counter_top_5.most_common(5),'\\n')\n",
    "    print('\\n')"
   ]
  },
  {
   "cell_type": "code",
   "execution_count": 72,
   "metadata": {},
   "outputs": [],
   "source": [
    "import pandas as pd\n",
    "import seaborn as sns"
   ]
  },
  {
   "cell_type": "code",
   "execution_count": 66,
   "metadata": {},
   "outputs": [],
   "source": [
    "# let's see how correlated the various measures are\n",
    "df = pd.DataFrame(columns=['presence','degree','betweenness','closeness','cluster_coeff','eigen_centrality'])\n",
    "\n",
    "for this_play in all_plays:\n",
    "    temp_df = pd.DataFrame.from_dict(this_play.nodes(data=True))\n",
    "    temp_df = temp_df[1].apply(pd.Series)\n",
    "    \n",
    "    df = df.append(temp_df) \n",
    "\n",
    "df.drop(columns='presence', inplace=True)"
   ]
  },
  {
   "cell_type": "code",
   "execution_count": 90,
   "metadata": {},
   "outputs": [],
   "source": [
    "cmap = sns.color_palette(\"Spectral\", as_cmap=True)"
   ]
  },
  {
   "cell_type": "code",
   "execution_count": 91,
   "metadata": {},
   "outputs": [
    {
     "data": {
      "image/png": "[encoded data removed]",
      "text/plain": [
       "<Figure size 432x288 with 2 Axes>"
      ]
     },
     "metadata": {
      "needs_background": "light"
     },
     "output_type": "display_data"
    }
   ],
   "source": [
    "pearson = df.corr('pearson')\n",
    "sns.heatmap(pearson, annot=False, cmap=cmap);"
   ]
  },
  {
   "cell_type": "code",
   "execution_count": 92,
   "metadata": {},
   "outputs": [
    {
     "data": {
      "image/png": "[encoded data removed]",
      "text/plain": [
       "<Figure size 432x288 with 2 Axes>"
      ]
     },
     "metadata": {
      "needs_background": "light"
     },
     "output_type": "display_data"
    }
   ],
   "source": [
    "spearman = df.corr('spearman')\n",
    "sns.heatmap(spearman, annot=False, cmap=cmap);"
   ]
  },
  {
   "cell_type": "markdown",
   "metadata": {},
   "source": [
    "# Romeo & Juliet - titular character not included\n",
    "# Macbeth - Lady Macbeth not included, she convinced Macbeth to commit regicide"
   ]
  },
  {
   "cell_type": "markdown",
   "metadata": {},
   "source": [
    "# End"
   ]
  }
 ],
 "metadata": {
  "kernelspec": {
   "display_name": "Python 3",
   "language": "python",
   "name": "python3"
  },
  "language_info": {
   "codemirror_mode": {
    "name": "ipython",
    "version": 3
   },
   "file_extension": ".py",
   "mimetype": "text/x-python",
   "name": "python",
   "nbconvert_exporter": "python",
   "pygments_lexer": "ipython3",
   "version": "3.8.5"
  }
 },
 "nbformat": 4,
 "nbformat_minor": 4
}
