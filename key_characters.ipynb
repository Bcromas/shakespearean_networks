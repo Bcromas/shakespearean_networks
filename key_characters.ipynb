{
 "cells": [
  {
   "cell_type": "code",
   "execution_count": 1,
   "metadata": {},
   "outputs": [],
   "source": [
    "import json\n",
    "import networkx as nx"
   ]
  },
  {
   "cell_type": "code",
   "execution_count": 2,
   "metadata": {},
   "outputs": [],
   "source": [
    "SHAKESPEARE = None\n",
    "with open('play_details.json') as f:\n",
    "    SHAKESPEARE = json.load(f)"
   ]
  },
  {
   "cell_type": "code",
   "execution_count": 3,
   "metadata": {},
   "outputs": [],
   "source": [
    "all_plays = []\n",
    "for entry in SHAKESPEARE.keys():\n",
    "    all_plays.append(nx.read_gpickle(f'output/{entry}.gpickle'))"
   ]
  },
  {
   "cell_type": "code",
   "execution_count": 4,
   "metadata": {},
   "outputs": [],
   "source": [
    "from collections import Counter"
   ]
  },
  {
   "cell_type": "code",
   "execution_count": 5,
   "metadata": {},
   "outputs": [
    {
     "name": "stdout",
     "output_type": "stream",
     "text": [
      "Romeo [('Capulet', 3), ('Romeo', 3), ('Benvolio', 3), ('Friar Lawrence', 2), ('Nurse', 2)] \n",
      "\n",
      "Othello [('Cassio', 3), ('Othello', 3), ('Duke', 3), ('Desdemona', 3), ('Iago', 2)] \n",
      "\n",
      "Hamlet [('Hamlet', 3), ('King', 3), ('Horatio', 3), ('Laertes', 2), ('Queen', 2)] \n",
      "\n",
      "Caesar [('Brutus', 3), ('Cassius', 3), ('Antony', 3), ('Caesar', 3), ('Cinna', 2)] \n",
      "\n",
      "Macbeth [('Macbeth', 3), ('Malcolm', 3), ('Banquo', 3), ('Ross', 2), ('First Witch', 2)] \n",
      "\n",
      "Midsummer [('Theseus', 3), ('Demetrius', 3), ('Bottom', 3), ('Puck', 2), ('Titania', 2)] \n",
      "\n",
      "Tempest [('Prospero', 3), ('Alonso', 3), ('Sebastian', 3), ('Gonzalo', 2), ('Ariel', 2)] \n",
      "\n",
      "Lear [('Lear', 3), ('Edmund', 3), ('Edgar', 3), ('Goneril', 2), ('Kent', 2)] \n",
      "\n",
      "Ado [('Benedick', 3), ('Leonato', 3), ('Dogberry', 3), ('Claudio', 3), ('Don Pedro', 2)] \n",
      "\n",
      "Merchant [('Portia', 3), ('Bassanio', 3), ('Shylock', 3), ('Lorenzo', 3), ('Gratiano', 3)] \n",
      "\n",
      "Shrew [('Petruchio', 3), ('Baptista', 2), ('Tranio', 2), ('Gremio', 2), ('Grumio', 2)] \n",
      "\n",
      "Comedy [('Adriana', 3), ('Duke', 3), ('Luciana', 3), ('Angelo', 3), ('Merchant', 2)] \n",
      "\n"
     ]
    }
   ],
   "source": [
    "these_measures = {\n",
    "        'degree': nx.degree_centrality,\n",
    "        'betweenness': nx.betweenness_centrality,\n",
    "        'closeness': nx.closeness_centrality,\n",
    "        'cluster_coeff': nx.clustering\n",
    "    }\n",
    "for this_play in all_plays:\n",
    "    counter_top_5 = Counter()\n",
    "    for this_name, this_funct in these_measures.items():\n",
    "        these_vals = this_funct(this_play)\n",
    "        nx.set_node_attributes(this_play, these_vals, name=this_name)\n",
    "        top_5 = [k for k,v in sorted(these_vals.items(), key=lambda item: item[1], reverse=True)][:5]\n",
    "        counter_top_5.update(top_5)\n",
    "    print(this_play.name.title(), counter_top_5.most_common(5),'\\n')"
   ]
  },
  {
   "cell_type": "markdown",
   "metadata": {},
   "source": [
    "# Romeo & Juliet - titular character not included\n",
    "# Macbeth - Lady Macbeth not included, she convinced Macbeth to commit regicide"
   ]
  },
  {
   "cell_type": "markdown",
   "metadata": {},
   "source": [
    "# End"
   ]
  }
 ],
 "metadata": {
  "kernelspec": {
   "display_name": "Python 3",
   "language": "python",
   "name": "python3"
  },
  "language_info": {
   "codemirror_mode": {
    "name": "ipython",
    "version": 3
   },
   "file_extension": ".py",
   "mimetype": "text/x-python",
   "name": "python",
   "nbconvert_exporter": "python",
   "pygments_lexer": "ipython3",
   "version": "3.8.5"
  }
 },
 "nbformat": 4,
 "nbformat_minor": 4
}
